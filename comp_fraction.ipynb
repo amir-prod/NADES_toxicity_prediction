{
 "cells": [
  {
   "cell_type": "code",
   "execution_count": 1,
   "metadata": {},
   "outputs": [],
   "source": [
    "import pandas as pd\n",
    "import numpy as np \n"
   ]
  },
  {
   "cell_type": "code",
   "execution_count": 18,
   "metadata": {},
   "outputs": [],
   "source": [
    "# Read the CSV files\n",
    "alcohol_df = pd.read_csv('Alchohol.csv').iloc[:, [0, -1]]\n",
    "sugar_df = pd.read_csv('Sugar.csv').iloc[:, [0, -1]]\n",
    "protein_df = pd.read_csv('Protein.csv').iloc[:, [0, -1]]\n"
   ]
  },
  {
   "cell_type": "code",
   "execution_count": 12,
   "metadata": {},
   "outputs": [
    {
     "data": {
      "text/plain": [
       "[0.1, 0.2, 0.3, 0.4, 0.5, 0.6, 0.7, 0.8, 0.9]"
      ]
     },
     "execution_count": 12,
     "metadata": {},
     "output_type": "execute_result"
    }
   ],
   "source": [
    "water_fractions = [x/10 for x in range(0, 10)]\n",
    "alcohol_ratio = [x for x in range(1, 10)]\n",
    "sugar_ratio = [x for x in range(0, 10)]\n",
    "protein_ratio = [x for x in range(1, 30)]\n"
   ]
  },
  {
   "cell_type": "code",
   "execution_count": 15,
   "metadata": {},
   "outputs": [],
   "source": [
    "\n",
    "def calculate_weighted_tox(water_fraction, alcohol_ratio, sugar_ratio, protein_ratio, alcohol_tox, sugar_tox, protein_tox):\n",
    "    components_fraction = 1- water_fraction\n",
    "    total_ratio = alcohol_ratio + sugar_ratio + protein_ratio\n",
    "    alcohol_weight = components_fraction * (alcohol_ratio / total_ratio)\n",
    "    sugar_weight = components_fraction * (sugar_ratio / total_ratio)\n",
    "    protein_weight = components_fraction * (protein_ratio / total_ratio)\n",
    "    \n",
    "    weighted_tox = (alcohol_weight * alcohol_tox) + (sugar_weight * sugar_tox) + (protein_weight * protein_tox)\n",
    "    \n",
    "    return weighted_tox\n",
    "\n",
    "\n",
    "# \n",
    "\n",
    "\n"
   ]
  },
  {
   "cell_type": "code",
   "execution_count": null,
   "metadata": {},
   "outputs": [],
   "source": []
  }
 ],
 "metadata": {
  "kernelspec": {
   "display_name": "NitroaromaticENV",
   "language": "python",
   "name": "python3"
  },
  "language_info": {
   "codemirror_mode": {
    "name": "ipython",
    "version": 3
   },
   "file_extension": ".py",
   "mimetype": "text/x-python",
   "name": "python",
   "nbconvert_exporter": "python",
   "pygments_lexer": "ipython3",
   "version": "3.7.11"
  }
 },
 "nbformat": 4,
 "nbformat_minor": 2
}
